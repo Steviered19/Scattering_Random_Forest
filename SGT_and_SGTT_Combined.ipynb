{
 "cells": [
  {
   "cell_type": "code",
   "execution_count": 10,
   "metadata": {},
   "outputs": [],
   "source": [
    "#import necessary libraries\n",
    "import numpy as np\n",
    "import pandas as pd\n",
    "import matplotlib.pyplot as plt\n",
    "import matplotlib.style as style\n",
    "from sklearn.model_selection import train_test_split\n",
    "from sklearn.ensemble import RandomForestRegressor\n",
    "from matplotlib.pyplot import figure\n",
    "import time\n",
    "\n",
    "\n",
    "#define plotting style that I like\n",
    "style.use('seaborn-deep')\n",
    "\n",
    "#define constants\n",
    "m_p=938.27231 #MeV\n",
    "m_n=939.56563 #MeV\n",
    "hbar_c=197.327053 #MeVfm"
   ]
  },
  {
   "cell_type": "markdown",
   "metadata": {},
   "source": [
    "### Define fucntions to do necessary operations for creating Random Forest"
   ]
  },
  {
   "cell_type": "code",
   "execution_count": 11,
   "metadata": {},
   "outputs": [],
   "source": [
    "#define runtime calculator\n",
    "def timer(elapsed_time):\n",
    "    seconds = (time.time() - elapsed_time)\n",
    "    day = seconds // (24 * 3600)\n",
    "    seconds = seconds % (24 * 3600)\n",
    "    hour = seconds // 3600\n",
    "    seconds %= 3600\n",
    "    minutes = seconds // 60\n",
    "    seconds %= 60\n",
    "    seconds = seconds\n",
    "    print('')\n",
    "    print('Cell runtime:', \"%s days, %s hours, %s minutes, %s seconds\" % (day, hour, minutes, seconds) )\n",
    "    print('')\n",
    "    \n",
    "# fucntions for k for each rxn type\n",
    "def k_pp(energy):\n",
    "    value=np.sqrt(((m_p**2)*(energy)*(energy+2*m_n))/(((m_p+m_n)**2)+(2*energy*m_p))) \n",
    "    k_pp=value/hbar_c \n",
    "    return k_pp\n",
    "def k_np(energy):\n",
    "    value=np.sqrt((1/2)*m_p*energy) \n",
    "    k_np=value/hbar_c \n",
    "    return k_np\n",
    "\n",
    "# add k*experimental_value column\n",
    "def change_np(rxn_observable):\n",
    "    rxn_observable['K*experimental_value'] = rxn_observable.apply(lambda row: (row.experimental_value * k_np(row.energy)),axis=1)\n",
    "def change_pp(rxn_observable):\n",
    "    rxn_observable['K*experimental_value'] = rxn_observable.apply(lambda row: (row.experimental_value * k_pp(row.energy)),axis=1)\n",
    "\n",
    "def split_and_score(size, number_of_random_states):\n",
    "    test=np.zeros(number_of_random_states)\n",
    "    train=np.zeros(number_of_random_states)\n",
    "    for j in range(number_of_random_states):\n",
    "        #split\n",
    "        train_features, test_features, train_labels, test_labels = train_test_split(features, labels, test_size=size)\n",
    "        #rf.train\n",
    "        rf = RandomForestRegressor(n_estimators=1000)\n",
    "        rf.fit(train_features, train_labels);\n",
    "        predictions = rf.predict(test_features)\n",
    "        rf_new = RandomForestRegressor(n_estimators = 100, criterion = 'mse', max_depth = None, min_samples_split = 2, min_samples_leaf = 1)\n",
    "        importances = list(rf.feature_importances_)\n",
    "        feature_importances = [(feature, round(importance, 2)) for feature, importance in zip(feature_list, importances)]\n",
    "        feature_importances = sorted(feature_importances, key = lambda x: x[1], reverse = True)\n",
    "        #score\n",
    "        test[j]=rf.score(test_features,test_labels)\n",
    "        train[j]=rf.score(train_features,train_labels)\n",
    "    test_ave=np.mean(test)\n",
    "    train_ave=np.mean(train)\n",
    "    test_var=np.sqrt(np.var(test))\n",
    "    train_var=np.sqrt(np.var(train))\n",
    "    return test_ave, test_var, train_ave, train_var\n",
    "\n",
    "def train_and_plot(rxn_observable, reac_observ):\n",
    "    #start timer\n",
    "    rxn_observable_time = time.time()\n",
    "    # One-hot encode categorical features\n",
    "    rxn_observable_plot = pd.get_dummies(rxn_observable)\n",
    "    # Labels are the values we want to predict\n",
    "    labels = np.array(rxn_observable_plot['K*experimental_value'])\n",
    "    # Remove the labels from the features\n",
    "    # axis 1 refers to the columns\n",
    "    features = rxn_observable_plot.drop('K*experimental_value', axis = 1)\n",
    "    # Saving feature names for later use\n",
    "    feature_list = list(features.columns)\n",
    "    # Convert to numpy array\n",
    "    features = np.array(features)\n",
    "\n",
    "    rxn_observable_test_mean=np.zeros(intervals) \n",
    "    rxn_observable_train_mean=np.zeros(intervals) \n",
    "    rxn_observable_test_variance=np.zeros(intervals) \n",
    "    rxn_observable_train_variance=np.zeros(intervals) \n",
    "    for i in range(intervals): \n",
    "        #define size\n",
    "        size=(i+1)/(intervals+1)\n",
    "        #call split function\n",
    "        test, test_v, train, train_v = split_and_score(size, number_of_random_states)\n",
    "        #add to arrays\n",
    "        rxn_observable_test_mean[i]=test\n",
    "        rxn_observable_train_mean[i]=train\n",
    "        rxn_observable_test_variance[i]=test_v\n",
    "        rxn_observable_train_variance[i]=train_v\n",
    "    print(\"Average Testing Score:\", rxn_observable_test_mean)\n",
    "    print('Testing Variance', rxn_observable_test_variance)\n",
    "    print('')\n",
    "    print('Average Training Score', rxn_observable_train_mean)\n",
    "    print('Training Variance', rxn_observable_train_variance)\n",
    "    print('')\n",
    "\n",
    "    #plot \n",
    "\n",
    "    #figure\n",
    "    figure(figsize=(15, 5))\n",
    "    ax=plt.subplot(111)\n",
    "    plt.xlabel('Test Size (%)')\n",
    "    plt.ylabel('Score')\n",
    "    plt.title(\"Reaction_Observable: {}\".format(reac_observ))\n",
    "    plt.xlim(left=0, right=100)\n",
    "    ax.scatter(sample_size, rxn_observable_test_mean, s=100, label='Average Testing Score')\n",
    "    ax.scatter(sample_size, rxn_observable_train_mean, s=100, label='Average Training Score')\n",
    "    ax.errorbar(sample_size, rxn_observable_test_mean, yerr=rxn_observable_test_variance, linestyle='none', capsize=10, elinewidth=2)\n",
    "    ax.errorbar(sample_size, rxn_observable_train_mean, yerr=rxn_observable_train_variance, linestyle='none', capsize=10, elinewidth=2)\n",
    "    ax.legend(loc='best')\n",
    "    plt.show\n",
    "\n",
    "    #print elapsed time\n",
    "    timer(rxn_observable_time)"
   ]
  },
  {
   "cell_type": "code",
   "execution_count": 12,
   "metadata": {},
   "outputs": [],
   "source": [
    "## EVERYTHING THAT NEEDS CHANGED SHOULD BE IN HERE\n",
    "\n",
    "#define number of random states\n",
    "number_of_random_states=5\n",
    "\n",
    "#define intervals of test size\n",
    "intervals=9 # 1:50%, 3:25%, 4:20%, 9:10%, 19:5%, 24:4%, 49:2%, 99:1%\n",
    "\n",
    "#x-axis\n",
    "if intervals==1:\n",
    "    sample_size=[50] #50% intervals\n",
    "elif intervals==3:\n",
    "    sample_size=list(range(25,76,25)) #25% intervals\n",
    "elif intervals==4:\n",
    "    sample_size=list(range(20,81,20)) #20% intervals \n",
    "elif intervals==9:\n",
    "    sample_size=list(range(10,91,10)) #10% intervals\n",
    "elif intervals==19:\n",
    "    sample_size=list(range(5,96,5)) #5% intervals\n",
    "elif intervals==24:\n",
    "    sample_size=list(range(4,97,4)) #4% intervals\n",
    "elif intervals==49:\n",
    "    sample_size=list(range(2,99,2)) #2% intervals\n",
    "elif intervals==99:\n",
    "    sample_size=list(range(1,100,1)) #1% intervals"
   ]
  },
  {
   "cell_type": "markdown",
   "metadata": {},
   "source": [
    "### Randomly Generated Data "
   ]
  },
  {
   "cell_type": "code",
   "execution_count": null,
   "metadata": {},
   "outputs": [],
   "source": []
  },
  {
   "cell_type": "markdown",
   "metadata": {},
   "source": [
    "### Train, Predict, and Plot"
   ]
  },
  {
   "cell_type": "code",
   "execution_count": 13,
   "metadata": {},
   "outputs": [],
   "source": [
    "#read data file\n",
    "data = pd.read_csv('CSV_files/np.sgt_and_sgtt.csv')\n",
    "#add k*exp column\n",
    "change_np(data)\n",
    "#remove columns that are not needed\n",
    "data = data.drop(columns=['scattering_angle', 'statistical_error', 'systematic_error', 'normalization', 'experimental_value', 'reaction_type'])\n",
    "\n",
    "#One-hot encode\n",
    "features = pd.get_dummies(data)\n",
    "# Labels are the values we want to predict\n",
    "labels = np.array(features['K*experimental_value'])\n",
    "# Remove the labels from the features\n",
    "features = features.drop('K*experimental_value', axis = 1)\n",
    "# Saving feature names for later use\n",
    "feature_list = list(features.columns)\n",
    "# Convert to numpy array\n",
    "features = np.array(features)\n",
    "\n",
    "train_features, test_features, train_labels, test_labels = train_test_split(features, labels, test_size = 0.25)\n",
    "\n",
    "rf = RandomForestRegressor(n_estimators= 1000)\n",
    "# Train the model on training data\n",
    "rf.fit(train_features, train_labels);\n",
    "\n",
    "#make predictions \n",
    "#construct testing arrays\n",
    "interval_size = 5\n",
    "num_intervals = 350/interval_size\n",
    "E_SGT = []\n",
    "E_SGTT = []\n",
    "E = list(range(0, 350 + int(interval_size/2), interval_size))\n",
    "for value in range(0, 350 + int(interval_size/2), interval_size):\n",
    "    E_SGT.append([value, 1, 0])\n",
    "    E_SGTT.append([value, 0, 1])\n",
    "#predict\n",
    "#SGT\n",
    "SGT_predictions = rf.predict(E_SGT)\n",
    "#SGTT\n",
    "SGTT_predictions = rf.predict(E_SGTT)"
   ]
  },
  {
   "cell_type": "code",
   "execution_count": 14,
   "metadata": {},
   "outputs": [
    {
     "data": {
      "text/plain": [
       "Text(0.5, 1.0, 'NP SGTT Predictions')"
      ]
     },
     "execution_count": 14,
     "metadata": {},
     "output_type": "execute_result"
    },
    {
     "data": {
      "image/png": "[encoded data removed]",
      "text/plain": [
       "<Figure size 1080x1080 with 2 Axes>"
      ]
     },
     "metadata": {
      "needs_background": "light"
     },
     "output_type": "display_data"
    }
   ],
   "source": [
    "fig, (ax1, ax2) = plt.subplots(nrows=2, ncols=1, figsize = (15,15))\n",
    "fig.autofmt_xdate(rotation = 45)\n",
    "#plot 1\n",
    "ax1.plot(E, SGT_predictions, 'ro', alpha=0.5)\n",
    "ax1.set_xlabel('Energy'); ax1.set_ylabel('K * Experimental Value'); ax1.set_title('NP SGT Predictions')\n",
    "#plot 2\n",
    "ax2.plot(E, SGTT_predictions, 'bo', alpha=0.5)\n",
    "ax2.set_xlabel('Energy'); ax2.set_ylabel('K * Experimental Value'); ax2.set_title('NP SGTT Predictions')"
   ]
  },
  {
   "cell_type": "code",
   "execution_count": null,
   "metadata": {},
   "outputs": [],
   "source": []
  }
 ],
 "metadata": {
  "kernelspec": {
   "display_name": "Python 3",
   "language": "python",
   "name": "python3"
  },
  "language_info": {
   "codemirror_mode": {
    "name": "ipython",
    "version": 3
   },
   "file_extension": ".py",
   "mimetype": "text/x-python",
   "name": "python",
   "nbconvert_exporter": "python",
   "pygments_lexer": "ipython3",
   "version": "3.7.3"
  }
 },
 "nbformat": 4,
 "nbformat_minor": 2
}
