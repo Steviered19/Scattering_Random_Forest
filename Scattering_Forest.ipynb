{
 "cells": [
  {
   "cell_type": "markdown",
   "metadata": {},
   "source": [
    "# Data Preparation"
   ]
  },
  {
   "cell_type": "code",
   "execution_count": null,
   "metadata": {
    "hideCode": false,
    "hidePrompt": false
   },
   "outputs": [],
   "source": [
    "# Pandas is used for data manipulation\n",
    "import pandas as pd"
   ]
  },
  {
   "cell_type": "markdown",
   "metadata": {},
   "source": [
    "#### Read Main Data Files"
   ]
  },
  {
   "cell_type": "code",
   "execution_count": null,
   "metadata": {},
   "outputs": [],
   "source": [
    "np_total=pd.read_csv('CSV_files/np.dat.csv')\n",
    "pp_total=pd.read_csv('CSV_files/pp.dat.csv')"
   ]
  },
  {
   "cell_type": "markdown",
   "metadata": {},
   "source": [
    "#### List columns in main data files"
   ]
  },
  {
   "cell_type": "code",
   "execution_count": null,
   "metadata": {},
   "outputs": [],
   "source": [
    "pp_total.columns "
   ]
  },
  {
   "cell_type": "code",
   "execution_count": null,
   "metadata": {},
   "outputs": [],
   "source": [
    "np_total.columns"
   ]
  },
  {
   "cell_type": "markdown",
   "metadata": {},
   "source": [
    "#### Adjust names of columns to remove unnecessary blank space"
   ]
  },
  {
   "cell_type": "code",
   "execution_count": null,
   "metadata": {},
   "outputs": [],
   "source": [
    "pp_total.rename(columns={' scattering_angle': 'scattering_angle', ' experimental_value': 'experimental_value', ' statistical_error': 'statistical_error', ' reaction_type': 'reaction_type', ' observable': 'observable', ' systematic_error': 'systematic_error', ' normalization': 'normalization'}, inplace=True)\n",
    "pp_total.columns"
   ]
  },
  {
   "cell_type": "code",
   "execution_count": null,
   "metadata": {},
   "outputs": [],
   "source": [
    "np_total.rename(columns={' scattering_angle': 'scattering_angle', ' experimental_value': 'experimental_value', ' statistical_error': 'statistical_error', ' reaction_type': 'reaction_type', ' observable': 'observable', ' systematic_error': 'systematic_error', ' normalization': 'normalization'}, inplace=True)\n",
    "np_total.columns"
   ]
  },
  {
   "cell_type": "markdown",
   "metadata": {},
   "source": [
    "#### List unique observables for each reaction type "
   ]
  },
  {
   "cell_type": "code",
   "execution_count": 7,
   "metadata": {},
   "outputs": [],
   "source": [
    "np_total.observable.unique()"
   ]
  },
  {
   "cell_type": "code",
   "execution_count": 8,
   "metadata": {},
   "outputs": [],
   "source": [
    "pp_total.observable.unique()"
   ]
  },
  {
   "cell_type": "markdown",
   "metadata": {},
   "source": [
    "#### Read files that are separated by observable type"
   ]
  },
  {
   "cell_type": "code",
   "execution_count": 9,
   "metadata": {},
   "outputs": [],
   "source": [
    "#np files\n",
    "np_a=pd.read_csv('CSV_files/np.a.csv')\n",
    "np_alfa=pd.read_csv('CSV_files/np.alfa.csv')\n",
    "np_at=pd.read_csv('CSV_files/np.at.csv')\n",
    "np_ayy=pd.read_csv('CSV_files/np.ayy.csv')\n",
    "np_azz=pd.read_csv('CSV_files/np.azz.csv')\n",
    "np_d=pd.read_csv('CSV_files/np.d.csv')\n",
    "np_dosk=pd.read_csv('CSV_files/np.dosk.csv')\n",
    "np_dsg_star=pd.read_csv('CSV_files/np.dsg_star.csv')\n",
    "np_dsg=pd.read_csv('CSV_files/np.dsg.csv')\n",
    "np_dt=pd.read_csv('CSV_files/np.dt.csv')\n",
    "np_dtrt=pd.read_csv('CSV_files/np.dtrt.csv')\n",
    "np_nnkk=pd.read_csv('CSV_files/np.nnkk.csv')\n",
    "np_nskn=pd.read_csv('CSV_files/np.nskn.csv')\n",
    "np_nssn=pd.read_csv('CSV_files/np.nssn.csv')\n",
    "np_p=pd.read_csv('CSV_files/np.p.csv')\n",
    "np_r=pd.read_csv('CSV_files/np.r.csv')\n",
    "np_ref2=pd.read_csv('CSV_files/np.ref2.csv')\n",
    "np_ref3=pd.read_csv('CSV_files/np.ref3.csv')\n",
    "np_rpt=pd.read_csv('CSV_files/np.rpt.csv')\n",
    "np_rt=pd.read_csv('CSV_files/np.rt.csv')\n",
    "np_sgt=pd.read_csv('CSV_files/np.sgt.csv')\n",
    "np_sgtl=pd.read_csv('CSV_files/np.sgtl.csv')\n",
    "np_sgtr=pd.read_csv('CSV_files/np.sgtr.csv')\n",
    "np_sgtt=pd.read_csv('CSV_files/np.sgtt.csv')\n",
    "\n",
    "#pp files\n",
    "pp_a=pd.read_csv('CSV_files/pp.a.csv')\n",
    "pp_alfa=pd.read_csv('CSV_files/pp.alfa.csv')\n",
    "pp_ap=pd.read_csv('CSV_files/pp.ap.csv')\n",
    "pp_axx=pd.read_csv('CSV_files/pp.axx.csv')\n",
    "pp_ayy=pd.read_csv('CSV_files/pp.ayy.csv')\n",
    "pp_azx=pd.read_csv('CSV_files/pp.azx.csv')\n",
    "pp_azz=pd.read_csv('CSV_files/pp.azz.csv')\n",
    "pp_ckp=pd.read_csv('CSV_files/pp.ckp.csv')\n",
    "pp_d=pd.read_csv('CSV_files/pp.d.csv')\n",
    "pp_dsg=pd.read_csv('CSV_files/pp.dsg.csv')\n",
    "pp_dt=pd.read_csv('CSV_files/pp.dt.csv')\n",
    "pp_mskn=pd.read_csv('CSV_files/pp.mskn.csv')\n",
    "pp_mssn=pd.read_csv('CSV_files/pp.mssn.csv')\n",
    "pp_p=pd.read_csv('CSV_files/pp.p.csv')\n",
    "pp_r=pd.read_csv('CSV_files/pp.r.csv')\n",
    "pp_ref2=pd.read_csv('CSV_files/pp.ref2.csv')\n",
    "pp_ref3=pd.read_csv('CSV_files/pp.ref2.csv')\n",
    "pp_rp=pd.read_csv('CSV_files/pp.rp.csv')\n",
    "pp_sgt=pd.read_csv('CSV_files/pp.sgt.csv')\n",
    "pp_sgte=pd.read_csv('CSV_files/pp.sgte.csv')\n",
    "pp_sgtl=pd.read_csv('CSV_files/pp.sgtl.csv')\n",
    "pp_sgtr=pd.read_csv('CSV_files/pp.sgtr.csv')\n",
    "pp_sgtt=pd.read_csv('CSV_files/pp.sgtt.csv')"
   ]
  },
  {
   "cell_type": "markdown",
   "metadata": {},
   "source": [
    "# Identify Anomalies"
   ]
  },
  {
   "cell_type": "code",
   "execution_count": 10,
   "metadata": {},
   "outputs": [
    {
     "name": "stdout",
     "output_type": "stream",
     "text": [
      "The shape of NP is: (5098, 8)\n",
      "The shape of NP_A is: (5, 8)\n",
      "The shape of NP_ALFA is: (3, 8)\n",
      "The shape of NP_AT is: (68, 8)\n",
      "The shape of NP_AYY is: (170, 8)\n",
      "The shape of NP_AZZ is: (99, 8)\n",
      "The shape of NP_D is: (32, 8)\n",
      "The shape of NP_D0SK is: (27, 8)\n",
      "The shape of NP_DSG* is: (7, 8)\n",
      "The shape of NP_DSG is: (1085, 8)\n",
      "The shape of NP_DT is: (78, 8)\n",
      "The shape of NP_DTRT is: (2, 8)\n",
      "The shape of NP_NNKK is: (16, 8)\n",
      "The shape of NP_NSKN is: (25, 8)\n",
      "The shape of NP_NSSN is: (26, 8)\n",
      "The shape of NP_P is: (1007, 8)\n",
      "The shape of NP_R is: (5, 8)\n",
      "The shape of NP_REF2 is: (2, 8)\n",
      "The shape of NP_REF3 is: (2, 8)\n",
      "The shape of NP_RPT is: (4, 8)\n",
      "The shape of NP_RT is: (73, 8)\n",
      "The shape of NP_SGT is: (497, 8)\n",
      "The shape of NP_SGTL is: (15, 8)\n",
      "The shape of NP_SGTR is: (2, 8)\n",
      "The shape of NP_SGTT is: (19, 8)\n"
     ]
    }
   ],
   "source": [
    "print('The shape of NP is:', np_total.shape)\n",
    "print('The shape of NP_A is:', np_a.shape)\n",
    "print('The shape of NP_ALFA is:', np_alfa.shape)\n",
    "print('The shape of NP_AT is:', np_at.shape)\n",
    "print('The shape of NP_AYY is:', np_ayy.shape)\n",
    "print('The shape of NP_AZZ is:', np_azz.shape)\n",
    "print('The shape of NP_D is:', np_d.shape)\n",
    "print('The shape of NP_D0SK is:', np_dosk.shape)\n",
    "print('The shape of NP_DSG* is:', np_dsg_star.shape)\n",
    "print('The shape of NP_DSG is:', pp_dsg.shape)\n",
    "print('The shape of NP_DT is:', np_dt.shape)\n",
    "print('The shape of NP_DTRT is:', np_dtrt.shape)\n",
    "print('The shape of NP_NNKK is:', np_nnkk.shape)\n",
    "print('The shape of NP_NSKN is:', np_nskn.shape)\n",
    "print('The shape of NP_NSSN is:', np_nssn.shape)\n",
    "print('The shape of NP_P is:', np_p.shape)\n",
    "print('The shape of NP_R is:', np_r.shape)\n",
    "print('The shape of NP_REF2 is:', np_ref2.shape)\n",
    "print('The shape of NP_REF3 is:', np_ref2.shape)\n",
    "print('The shape of NP_RPT is:', np_rpt.shape)\n",
    "print('The shape of NP_RT is:', np_rt.shape)\n",
    "print('The shape of NP_SGT is:', np_sgt.shape)\n",
    "print('The shape of NP_SGTL is:', np_sgtl.shape)\n",
    "print('The shape of NP_SGTR is:', np_sgtr.shape)\n",
    "print('The shape of NP_SGTT is:', np_sgtt.shape)"
   ]
  },
  {
   "cell_type": "code",
   "execution_count": 11,
   "metadata": {
    "hideCode": false,
    "hidePrompt": false
   },
   "outputs": [
    {
     "name": "stdout",
     "output_type": "stream",
     "text": [
      "The shape of PP is: (3158, 8)\n",
      "The shape of PP_A is: (86, 8)\n",
      "The shape of PP_ALFA is: (2, 8)\n",
      "The shape of PP_AP is: (5, 8)\n",
      "The shape of PP_AXX is: (264, 8)\n",
      "The shape of PP_AYY is: (302, 8)\n",
      "The shape of PP_AZX is: (257, 8)\n",
      "The shape of PP_AZZ is: (49, 8)\n",
      "The shape of PP_CKP is: (2, 8)\n",
      "The shape of PP_D is: (98, 8)\n",
      "The shape of PP_DSG is: (1085, 8)\n",
      "The shape of PP_DT is: (16, 8)\n",
      "The shape of PP_MSKN is: (16, 8)\n",
      "The shape of PP_MSSN is: (16, 8)\n",
      "The shape of PP_P is: (806, 8)\n",
      "The shape of PP_R is: (100, 8)\n",
      "The shape of PP_REF2 is: (2, 8)\n",
      "The shape of PP_REF3 is: (2, 8)\n",
      "The shape of PP_RP is: (27, 8)\n",
      "The shape of PP_SGT is: (7, 8)\n",
      "The shape of PP_SGTE is: (1, 8)\n",
      "The shape of PP_SGTL is: (7, 8)\n",
      "The shape of PP_SGTR is: (3, 8)\n",
      "The shape of PP_SGTT is: (5, 8)\n"
     ]
    }
   ],
   "source": [
    "print('The shape of PP is:', pp_total.shape)\n",
    "print('The shape of PP_A is:', pp_a.shape)\n",
    "print('The shape of PP_ALFA is:', pp_alfa.shape)\n",
    "print('The shape of PP_AP is:', pp_ap.shape)\n",
    "print('The shape of PP_AXX is:', pp_axx.shape)\n",
    "print('The shape of PP_AYY is:', pp_ayy.shape)\n",
    "print('The shape of PP_AZX is:', pp_azx.shape)\n",
    "print('The shape of PP_AZZ is:', pp_azz.shape)\n",
    "print('The shape of PP_CKP is:', pp_ckp.shape)\n",
    "print('The shape of PP_D is:', pp_d.shape)\n",
    "print('The shape of PP_DSG is:', pp_dsg.shape)\n",
    "print('The shape of PP_DT is:', pp_dt.shape)\n",
    "print('The shape of PP_MSKN is:', pp_mskn.shape)\n",
    "print('The shape of PP_MSSN is:', pp_mssn.shape)\n",
    "print('The shape of PP_P is:', pp_p.shape)\n",
    "print('The shape of PP_R is:', pp_r.shape)\n",
    "print('The shape of PP_REF2 is:', pp_ref2.shape)\n",
    "print('The shape of PP_REF3 is:', pp_ref2.shape)\n",
    "print('The shape of PP_RP is:', pp_rp.shape)\n",
    "print('The shape of PP_SGT is:', pp_sgt.shape)\n",
    "print('The shape of PP_SGTE is:', pp_sgte.shape)\n",
    "print('The shape of PP_SGTL is:', pp_sgtl.shape)\n",
    "print('The shape of PP_SGTR is:', pp_sgtr.shape)\n",
    "print('The shape of PP_SGTT is:', pp_sgtt.shape)"
   ]
  },
  {
   "cell_type": "markdown",
   "metadata": {},
   "source": [
    "### Remove unnecessary columns"
   ]
  },
  {
   "cell_type": "code",
   "execution_count": 12,
   "metadata": {},
   "outputs": [],
   "source": [
    "#large files \n",
    "pp_total = pp_total.drop(columns=['statistical_error', 'systematic_error', 'normalization'])\n",
    "np_total = np_total.drop(columns=['statistical_error', 'systematic_error', 'normalization'])\n",
    "#np files\n",
    "np_a = np_a.drop(columns=['statistical_error', 'systematic_error', 'normalization'])\n",
    "np_alfa = np_alfa.drop(columns=['statistical_error', 'systematic_error', 'normalization'])\n",
    "np_at = np_at.drop(columns=['statistical_error', 'systematic_error', 'normalization'])\n",
    "np_ayy = np_ayy.drop(columns=['statistical_error', 'systematic_error', 'normalization'])\n",
    "np_azz = np_azz.drop(columns=['statistical_error', 'systematic_error', 'normalization'])\n",
    "np_d = np_d.drop(columns=['statistical_error', 'systematic_error', 'normalization'])\n",
    "np_dosk = np_dosk.drop(columns=['statistical_error', 'systematic_error', 'normalization'])\n",
    "np_dsg_star = np_dsg_star.drop(columns=['statistical_error', 'systematic_error', 'normalization'])\n",
    "np_dsg = np_dsg.drop(columns=['statistical_error', 'systematic_error', 'normalization'])\n",
    "np_dt = np_dt.drop(columns=['statistical_error', 'systematic_error', 'normalization'])\n",
    "np_dtrt = np_dtrt.drop(columns=['statistical_error', 'systematic_error', 'normalization'])\n",
    "np_nnkk = np_nnkk.drop(columns=['statistical_error', 'systematic_error', 'normalization'])\n",
    "np_nskn = np_nskn.drop(columns=['statistical_error', 'systematic_error', 'normalization'])\n",
    "np_nssn = np_nssn.drop(columns=['statistical_error', 'systematic_error', 'normalization'])\n",
    "np_p = np_p.drop(columns=['statistical_error', 'systematic_error', 'normalization'])\n",
    "np_r = np_r.drop(columns=['statistical_error', 'systematic_error', 'normalization'])\n",
    "np_ref2 = np_ref2.drop(columns=['statistical_error', 'systematic_error', 'normalization'])\n",
    "np_ref3 = np_ref3.drop(columns=['statistical_error', 'systematic_error', 'normalization'])\n",
    "np_rpt = np_rpt.drop(columns=['statistical_error', 'systematic_error', 'normalization'])\n",
    "np_rt = np_rt.drop(columns=['statistical_error', 'systematic_error', 'normalization'])\n",
    "np_sgt = np_sgt.drop(columns=['statistical_error', 'systematic_error', 'normalization'])\n",
    "np_sgtl = np_sgtl.drop(columns=['statistical_error', 'systematic_error', 'normalization'])\n",
    "np_sgtr = np_sgtr.drop(columns=['statistical_error', 'systematic_error', 'normalization'])\n",
    "np_sgtt = np_sgtt.drop(columns=['statistical_error', 'systematic_error', 'normalization'])\n",
    "#pp files\n",
    "pp_a = pp_a.drop(columns=['statistical_error', 'systematic_error', 'normalization'])\n",
    "pp_alfa = pp_alfa.drop(columns=['statistical_error', 'systematic_error', 'normalization'])\n",
    "pp_ap = pp_ap.drop(columns=['statistical_error', 'systematic_error', 'normalization'])\n",
    "pp_axx = pp_axx.drop(columns=['statistical_error', 'systematic_error', 'normalization'])\n",
    "pp_ayy = pp_ayy.drop(columns=['statistical_error', 'systematic_error', 'normalization'])\n",
    "pp_azx = pp_azx.drop(columns=['statistical_error', 'systematic_error', 'normalization'])\n",
    "pp_azz = pp_azz.drop(columns=['statistical_error', 'systematic_error', 'normalization'])\n",
    "pp_ckp = pp_ckp.drop(columns=['statistical_error', 'systematic_error', 'normalization'])\n",
    "pp_d = pp_d.drop(columns=['statistical_error', 'systematic_error', 'normalization'])\n",
    "pp_dsg = pp_dsg.drop(columns=['statistical_error', 'systematic_error', 'normalization'])\n",
    "pp_dt = pp_dt.drop(columns=['statistical_error', 'systematic_error', 'normalization'])\n",
    "pp_mskn = pp_mskn.drop(columns=['statistical_error', 'systematic_error', 'normalization'])\n",
    "pp_mssn = pp_mssn.drop(columns=['statistical_error', 'systematic_error', 'normalization'])\n",
    "pp_p = pp_p.drop(columns=['statistical_error', 'systematic_error', 'normalization'])\n",
    "pp_r = pp_r.drop(columns=['statistical_error', 'systematic_error', 'normalization'])\n",
    "pp_ref2 = pp_ref2.drop(columns=['statistical_error', 'systematic_error', 'normalization'])\n",
    "pp_ref3 = pp_ref3.drop(columns=['statistical_error', 'systematic_error', 'normalization'])\n",
    "pp_rp = pp_rp.drop(columns=['statistical_error', 'systematic_error', 'normalization'])\n",
    "pp_sgt = pp_sgt.drop(columns=['statistical_error', 'systematic_error', 'normalization'])\n",
    "pp_sgte = pp_sgte.drop(columns=['statistical_error', 'systematic_error', 'normalization'])\n",
    "pp_sgtl = pp_sgtl.drop(columns=['statistical_error', 'systematic_error', 'normalization'])\n",
    "pp_sgtr = pp_sgtr.drop(columns=['statistical_error', 'systematic_error', 'normalization'])\n",
    "pp_sgtt = pp_sgtt.drop(columns=['statistical_error', 'systematic_error', 'normalization'])"
   ]
  },
  {
   "cell_type": "markdown",
   "metadata": {},
   "source": [
    "## Generate Plots"
   ]
  },
  {
   "cell_type": "code",
   "execution_count": 17,
   "metadata": {},
   "outputs": [],
   "source": [
    "import matplotlib.pyplot as plt\n",
    "import matplotlib.style as style\n",
    "style.use('fivethirtyeight')\n",
    "\n",
    "def generate_plot(rxn_observable, reac_observ):\n",
    "    #define values to be plotted\n",
    "    energy=rxn_observable['energy']\n",
    "    value=rxn_observable['experimental_value']\n",
    "    angle=rxn_observable['scattering_angle']\n",
    "    #figure specifications\n",
    "    fig, ((ax1, ax2), (ax3, ax4)) = plt.subplots(nrows=2, ncols=2, figsize = (15,10))\n",
    "    fig.autofmt_xdate(rotation = 45)\n",
    "    fig.suptitle('Reaction_Observable: {}'.format(reac_observ), fontsize=24)\n",
    "    #plot 1\n",
    "    ax1.plot(energy, value, 'ro', alpha=0.5)\n",
    "    ax1.set_xlabel('Energy'); ax1.set_ylabel('Experimental Value'); ax1.set_title('Experimental Value vs. Energy')\n",
    "    #plot 2\n",
    "    ax2.plot(angle, value, 'bo', alpha=0.5)\n",
    "    ax2.set_xlabel('Scattering Angle'); ax2.set_ylabel('Experimental Value'); ax2.set_title('Experimental Value vs. Scattering Angle')\n",
    "    #plot 3\n",
    "    ax3.plot(angle, energy, 'go', alpha=0.5)\n",
    "    ax3.set_xlabel('Scattering Angle'); ax3.set_ylabel('Energy'); ax3.set_title('Scattering Angle vs. Energy')\n",
    "    #plot 4\n",
    "    ax4.plot(energy, angle, 'mo', alpha=0.5)\n",
    "    ax4.set_xlabel('Energy'); ax4.set_ylabel('Scattering Angle'); ax4.set_title('Energy vs. Scattering Angle')\n",
    "    #save figures\n",
    "    plt.savefig('Plots/'+reac_observ+'.pdf', format='pdf')"
   ]
  },
  {
   "cell_type": "code",
   "execution_count": null,
   "metadata": {},
   "outputs": [],
   "source": [
    "#total plots\n",
    "generate_plot(np_total, 'NP_ALL_MEASURED_OBSERVABLES')\n",
    "generate_plot(pp_total, 'PP_ALL_MEASURED_OBSERVABLES')"
   ]
  },
  {
   "cell_type": "code",
   "execution_count": null,
   "metadata": {},
   "outputs": [],
   "source": [
    "#np plots\n",
    "generate_plot(np_a, \"NP_A\")\n",
    "generate_plot(np_alfa, \"NP_ALFA\")\n",
    "generate_plot(np_at, \"NP_AT\")\n",
    "generate_plot(np_ayy, \"NP_AYY\")\n",
    "generate_plot(np_azz, \"NP_AZZ\")\n",
    "generate_plot(np_d, \"NP_D\")\n",
    "generate_plot(np_dosk, \"NP_D0SK\")\n",
    "generate_plot(np_dsg_star, \"NP_DSG*\")\n",
    "generate_plot(np_dsg, \"NP_DSG\")\n",
    "generate_plot(np_dt, \"NP_DT\")\n",
    "generate_plot(np_dtrt, \"NP_DTRT\")\n",
    "generate_plot(np_nnkk, \"NP_NNKK\")\n",
    "generate_plot(np_nskn, \"NP_NSKN\")\n",
    "generate_plot(np_nssn, \"NP_NSSN\")\n",
    "generate_plot(np_p, \"NP_P\")\n",
    "generate_plot(np_r, \"NP_R\")\n",
    "generate_plot(np_ref2, \"NP_REF2\")\n",
    "generate_plot(np_ref3, \"NP_REF3\")\n",
    "generate_plot(np_rpt, \"NP_RPT\")\n",
    "generate_plot(np_rt, \"NP_RT\")\n",
    "generate_plot(np_sgt, \"NP_SGT\")\n",
    "generate_plot(np_sgtl, \"NP_SGTL\")\n",
    "generate_plot(np_sgtr, \"NP_SGTR\")\n",
    "generate_plot(np_sgtt, \"NP_SGTT\")"
   ]
  },
  {
   "cell_type": "code",
   "execution_count": null,
   "metadata": {},
   "outputs": [],
   "source": [
    "#pp plots\n",
    "generate_plot(pp_a, \"PP_A\")\n",
    "generate_plot(pp_alfa, \"PP_ALFA\")\n",
    "generate_plot(pp_ap, \"PP_AP\")\n",
    "generate_plot(pp_axx, \"PP_AXX\")\n",
    "generate_plot(pp_ayy, \"PP_AYY\")\n",
    "generate_plot(pp_azx, \"PP_AZX\")\n",
    "generate_plot(pp_azz, \"PP_AZZ\")\n",
    "generate_plot(pp_ckp, \"PP_CKP\")\n",
    "generate_plot(pp_d, \"PP_D\")\n",
    "generate_plot(pp_dsg, \"PP_DSG\")\n",
    "generate_plot(pp_dt, \"PP_DT\")\n",
    "generate_plot(pp_mskn, \"PP_MSKN\")\n",
    "generate_plot(pp_mssn, \"PP_MSSN\")\n",
    "generate_plot(pp_p, \"PP_P\")\n",
    "generate_plot(pp_r, \"PP_R\")\n",
    "generate_plot(pp_ref2, \"PP_REF2\")\n",
    "generate_plot(pp_ref3, \"PP_REF3\")\n",
    "generate_plot(pp_rp, \"PP_RP\")\n",
    "generate_plot(pp_sgt, \"PP_SGT\")\n",
    "generate_plot(pp_sgte, \"PP_SGTE\")\n",
    "generate_plot(pp_sgtl, \"PP_SGTL\")\n",
    "generate_plot(pp_sgtr, \"PP_SGTR\")\n",
    "generate_plot(pp_sgtt, \"PP_SGTT\")"
   ]
  },
  {
   "cell_type": "markdown",
   "metadata": {},
   "source": [
    "# **Test the best ratios**"
   ]
  },
  {
   "cell_type": "code",
   "execution_count": 13,
   "metadata": {},
   "outputs": [],
   "source": [
    "## EVERYTHING THAT NEEDS CHANGED SHOULD BE IN HERE\n",
    "\n",
    "#define rxn and observable for this round of calculations\n",
    "rxn_observable=np_sgt\n",
    "reac_observ='NP_SGT'\n",
    "\n",
    "#define number of random states\n",
    "number_of_random_states=10\n",
    "\n",
    "#define intervals of test size\n",
    "intervals=19 # 1:50%, 3:25%, 4:20%, 9:10%, 19:5%, 24:4%, 49:2%, 99:1%"
   ]
  },
  {
   "cell_type": "code",
   "execution_count": 14,
   "metadata": {},
   "outputs": [],
   "source": [
    "import numpy as np\n",
    "\n",
    "# One-hot encode categorical features\n",
    "rxn_observable = pd.get_dummies(rxn_observable)\n",
    "# Labels are the values we want to predict\n",
    "labels = np.array(rxn_observable['experimental_value'])\n",
    "# Remove the labels from the features\n",
    "# axis 1 refers to the columns\n",
    "features = rxn_observable.drop('experimental_value', axis = 1)\n",
    "# Saving feature names for later use\n",
    "feature_list = list(features.columns)\n",
    "\n",
    "# Convert to numpy array\n",
    "features = np.array(features)"
   ]
  },
  {
   "cell_type": "code",
   "execution_count": 18,
   "metadata": {},
   "outputs": [],
   "source": [
    "from sklearn.model_selection import train_test_split\n",
    "from sklearn.ensemble import RandomForestRegressor\n",
    "import numpy as np\n",
    "\n",
    "def split_and_score(size, number_of_random_states):\n",
    "    test=np.zeros(number_of_random_states)\n",
    "    train=np.zeros(number_of_random_states)\n",
    "    for j in range(number_of_random_states):\n",
    "        #split\n",
    "        train_features, test_features, train_labels, test_labels = train_test_split(features, labels, test_size=size)\n",
    "        #replace any test_labels=0 with small number to prevent dividing by 0\n",
    "        #for index, value in enumerate(test_labels):\n",
    "         #   if (value == 0):\n",
    "          #      value=1e-3\n",
    "           #     test_labels=np.where(test_labels==0, value, test_labels)\n",
    "        #rf.train\n",
    "        rf = RandomForestRegressor(n_estimators=1000)\n",
    "        rf.fit(train_features, train_labels);\n",
    "        predictions = rf.predict(test_features)\n",
    "        rf_new = RandomForestRegressor(n_estimators = 100, criterion = 'mse', max_depth = None, min_samples_split = 2, min_samples_leaf = 1)\n",
    "        importances = list(rf.feature_importances_)\n",
    "        feature_importances = [(feature, round(importance, 2)) for feature, importance in zip(feature_list, importances)]\n",
    "        feature_importances = sorted(feature_importances, key = lambda x: x[1], reverse = True)\n",
    "        #score\n",
    "        test[j]=rf.score(test_features,test_labels)\n",
    "        train[j]=rf.score(train_features,train_labels)\n",
    "    test_ave=np.mean(test)\n",
    "    train_ave=np.mean(train)\n",
    "    test_var=np.sqrt(np.var(test))\n",
    "    train_var=np.sqrt(np.var(train))\n",
    "    return test_ave, test_var, train_ave, train_var"
   ]
  },
  {
   "cell_type": "code",
   "execution_count": 19,
   "metadata": {},
   "outputs": [
    {
     "name": "stdout",
     "output_type": "stream",
     "text": [
      "Average Testing Score: [0.99963464 0.99928799 0.99937602 0.99931106 0.99784165 0.99852012\n",
      " 0.99897643 0.9978475  0.99524501 0.98582898 0.99202862 0.99416643\n",
      " 0.98641131 0.97937226 0.97593097 0.95475526 0.942169   0.92972212\n",
      " 0.76840989]\n",
      "Testing Variance [0.00025518 0.00093217 0.00057619 0.00036803 0.0020359  0.001769\n",
      " 0.00050534 0.0015259  0.00630742 0.02581448 0.00831156 0.00409372\n",
      " 0.01844272 0.03077527 0.02424096 0.04985092 0.04744542 0.05258191\n",
      " 0.0789011 ]\n",
      "\n",
      "Average Training Score [0.99975139 0.99972735 0.99968065 0.99971093 0.99969059 0.99971583\n",
      " 0.99957728 0.99930322 0.99898383 0.99866197 0.99898434 0.99738465\n",
      " 0.99746426 0.99603552 0.99304214 0.99373227 0.99103303 0.97672983\n",
      " 0.98580586]\n",
      "Training Variance [2.47956860e-05 6.46633845e-05 6.16849394e-05 5.03460569e-05\n",
      " 1.46960418e-04 1.08004379e-04 1.72423795e-04 5.78406687e-04\n",
      " 1.02872249e-03 1.35108567e-03 7.24737372e-04 1.89988392e-03\n",
      " 2.97677669e-03 4.57873108e-03 6.76750797e-03 7.77578970e-03\n",
      " 1.11557811e-02 1.94166679e-02 1.41912547e-02]\n",
      "\n"
     ]
    },
    {
     "data": {
      "image/png": "[encoded data removed]",
      "text/plain": [
       "<Figure size 1080x360 with 1 Axes>"
      ]
     },
     "metadata": {},
     "output_type": "display_data"
    },
    {
     "data": {
      "image/png": "[encoded data removed]",
      "text/plain": [
       "<Figure size 1080x720 with 4 Axes>"
      ]
     },
     "metadata": {},
     "output_type": "display_data"
    }
   ],
   "source": [
    "from matplotlib.pyplot import figure\n",
    "\n",
    "test_mean=np.zeros(intervals) \n",
    "train_mean=np.zeros(intervals) \n",
    "test_variance=np.zeros(intervals) \n",
    "train_variance=np.zeros(intervals) \n",
    "for i in range(intervals): \n",
    "    #define size\n",
    "    size=(i+1)/(intervals+1)\n",
    "    #call split function\n",
    "    test, test_v, train, train_v = split_and_score(size, number_of_random_states)\n",
    "    #add to arrays\n",
    "    test_mean[i]=test\n",
    "    train_mean[i]=train\n",
    "    test_variance[i]=test_v\n",
    "    train_variance[i]=train_v\n",
    "print(\"Average Testing Score:\", test_mean)\n",
    "print('Testing Variance', test_variance)\n",
    "print('')\n",
    "print('Average Training Score', train_mean)\n",
    "print('Training Variance', train_variance)\n",
    "print('')\n",
    "\n",
    "#plot \n",
    "\n",
    "#x-axis\n",
    "if intervals==1:\n",
    "    sample_size=[50] #50% intervals\n",
    "elif intervals==3:\n",
    "    sample_size=list(range(25,76,25)) #25% intervals\n",
    "elif intervals==4:\n",
    "    sample_size=list(range(20,81,20)) #20% intervals \n",
    "elif intervals==9:\n",
    "    sample_size=list(range(10,91,10)) #10% intervals\n",
    "elif intervals==19:\n",
    "    sample_size=list(range(5,96,5)) #5% intervals\n",
    "elif intervals==24:\n",
    "    sample_size=list(range(4,97,4)) #4% intervals\n",
    "elif intervals==49:\n",
    "    sample_size=list(range(2,99,2)) #2% intervals\n",
    "elif intervals==99:\n",
    "    sample_size=list(range(1,100,1)) #1% intervals\n",
    "\n",
    "#figure\n",
    "figure(figsize=(15, 5))\n",
    "ax=plt.subplot(111)\n",
    "plt.xlabel('Test Size (%)')\n",
    "plt.ylabel('Score')\n",
    "plt.title(\"Reaction_Observable: {}\".format(reac_observ))\n",
    "plt.xlim(left=0, right=100)\n",
    "ax.scatter(sample_size, test_mean, s=100, label='Average Testing Score')\n",
    "ax.scatter(sample_size, train_mean, s=100, label='Average Training Score')\n",
    "ax.errorbar(sample_size, test_mean, yerr=test_variance, linestyle='none', capsize=10, elinewidth=2)\n",
    "ax.errorbar(sample_size, train_mean, yerr=train_variance, linestyle='none', capsize=10, elinewidth=2)\n",
    "ax.legend(loc='best')\n",
    "plt.show\n",
    "\n",
    "generate_plot(rxn_observable, reac_observ)"
   ]
  },
  {
   "cell_type": "markdown",
   "metadata": {},
   "source": []
  },
  {
   "cell_type": "markdown",
   "metadata": {},
   "source": [
    "## Training and Testing Sets"
   ]
  },
  {
   "cell_type": "code",
   "execution_count": null,
   "metadata": {},
   "outputs": [],
   "source": [
    "# Using Skicit-learn to split data into training and testing sets\n",
    "from sklearn.model_selection import train_test_split\n",
    "\n",
    "# Split the data into training and testing sets\n",
    "train_features, test_features, train_labels, test_labels = train_test_split(features, labels, test_size = 0.2, random_state = 42)\n",
    "print('Training Features Shape:', train_features.shape)\n",
    "print('Training Labels Shape:', train_labels.shape)\n",
    "print('Testing Features Shape:', test_features.shape)\n",
    "print('Testing Labels Shape:', test_labels.shape)\n",
    "\n",
    "#print(test_labels)\n",
    "#print('')\n",
    "#for index, value in enumerate(test_labels):\n",
    "#    if (value == 0):\n",
    "#        print('')\n",
    "#        print('test_label[',index,']','=',value)\n",
    "#        print('')\n",
    "#    elif(value != 0):\n",
    "#        print('test_label[',index,']','=',value)\n",
    "#    for index, value in enumerate(test_labels):\n",
    "#        if (value == 0):\n",
    "#            value=1e-3\n",
    "#            test_labels=np.where(test_labels==0, value, test_labels)\n",
    "#print('')\n",
    "#print(test_labels)"
   ]
  },
  {
   "cell_type": "markdown",
   "metadata": {},
   "source": [
    "## Training the Forest"
   ]
  },
  {
   "cell_type": "code",
   "execution_count": null,
   "metadata": {
    "hideCode": false,
    "hidePrompt": false
   },
   "outputs": [],
   "source": [
    "# Import the model we are using\n",
    "from sklearn.ensemble import RandomForestRegressor\n",
    "\n",
    "# Instantiate model \n",
    "rf = RandomForestRegressor(n_estimators= 1000, random_state=42)\n",
    "\n",
    "# Train the model on training data\n",
    "rf.fit(train_features, train_labels);"
   ]
  },
  {
   "cell_type": "markdown",
   "metadata": {},
   "source": [
    "## Make Predictions on Test Data"
   ]
  },
  {
   "cell_type": "code",
   "execution_count": null,
   "metadata": {},
   "outputs": [],
   "source": [
    "# Use the forest's predict method on the test data\n",
    "predictions = rf.predict(test_features)\n",
    "\n",
    "# Calculate the absolute errors\n",
    "errors = abs(predictions - test_labels)\n",
    "\n",
    "# Print out the mean absolute error (mae)\n",
    "print('Mean Absolute Error:', round(np.mean(errors), 2))\n",
    "\n",
    "# Calculate mean absolute percentage error (MAPE)\n",
    "mape = 100 * (errors / test_labels)\n",
    "\n",
    "# Calculate and display accuracy\n",
    "accuracy = 100 - np.mean(mape)\n",
    "print('Accuracy:', round(accuracy, 2), '%.')"
   ]
  },
  {
   "cell_type": "markdown",
   "metadata": {},
   "source": [
    "We can create models with different hyperparameters to try and boost performance. The only way to find the best ones\n",
    "are to try a few and evaluate them! "
   ]
  },
  {
   "cell_type": "code",
   "execution_count": null,
   "metadata": {},
   "outputs": [],
   "source": [
    "rf_new = RandomForestRegressor(n_estimators = 100, criterion = 'mse', max_depth = None, \n",
    "                               min_samples_split = 2, min_samples_leaf = 1)"
   ]
  },
  {
   "cell_type": "markdown",
   "metadata": {},
   "source": [
    "## Visualizing a Single Decision Tree"
   ]
  },
  {
   "cell_type": "code",
   "execution_count": null,
   "metadata": {},
   "outputs": [],
   "source": [
    "# Import tools needed for visualization\n",
    "from sklearn.tree import export_graphviz\n",
    "import pydot\n",
    "\n",
    "# Pull out one tree from the forest\n",
    "tree = rf.estimators_[5]\n",
    "\n",
    "# Export the image to a dot file\n",
    "export_graphviz(tree, out_file = 'scattering_tree.dot', feature_names = feature_list, rounded = True, precision = 1)\n",
    "\n",
    "# Use dot file to create a graph\n",
    "(graph, ) = pydot.graph_from_dot_file('scattering_tree.dot')\n",
    "\n",
    "# Write graph to a png file\n",
    "graph.write_png('scattering_tree.png'); \n",
    "\n",
    "print('The depth of this tree is:', tree.tree_.max_depth)"
   ]
  },
  {
   "cell_type": "markdown",
   "metadata": {},
   "source": [
    "![Decision Tree](tree.png)"
   ]
  },
  {
   "cell_type": "markdown",
   "metadata": {},
   "source": [
    "Smaller tree for visualization."
   ]
  },
  {
   "cell_type": "code",
   "execution_count": null,
   "metadata": {},
   "outputs": [],
   "source": [
    "# Limit depth of tree to 2 levels\n",
    "rf_small = RandomForestRegressor(n_estimators=10, max_depth = 3, random_state=42)\n",
    "rf_small.fit(train_features, train_labels)\n",
    "\n",
    "# Extract the small tree\n",
    "tree_small = rf_small.estimators_[5]\n",
    "\n",
    "# Save the tree as a png image\n",
    "export_graphviz(tree_small, out_file = 'small_tree.dot', feature_names = feature_list, rounded = True, precision = 1)\n",
    "\n",
    "(graph, ) = pydot.graph_from_dot_file('small_tree.dot')\n",
    "\n",
    "graph.write_png('small_tree.png')"
   ]
  },
  {
   "cell_type": "markdown",
   "metadata": {},
   "source": [
    "![Small Decision Tree](small_tree.PNG)"
   ]
  },
  {
   "cell_type": "markdown",
   "metadata": {},
   "source": [
    "### Annotated Version of Tree"
   ]
  },
  {
   "cell_type": "markdown",
   "metadata": {},
   "source": [
    "![Annotated Decision Tree](small_tree_annotated.PNG)"
   ]
  },
  {
   "cell_type": "markdown",
   "metadata": {},
   "source": [
    "## Variable Importances"
   ]
  },
  {
   "cell_type": "code",
   "execution_count": null,
   "metadata": {},
   "outputs": [],
   "source": [
    "# Get numerical feature importances\n",
    "importances = list(rf.feature_importances_)\n",
    "\n",
    "# List of tuples with variable and importance\n",
    "feature_importances = [(feature, round(importance, 2)) for feature, importance in zip(feature_list, importances)]\n",
    "\n",
    "# Sort the feature importances by most important first\n",
    "feature_importances = sorted(feature_importances, key = lambda x: x[1], reverse = True)\n",
    "\n",
    "# Print out the feature and importances \n",
    "[print('Variable: {:20} Importance: {}'.format(*pair)) for pair in feature_importances];"
   ]
  },
  {
   "cell_type": "code",
   "execution_count": null,
   "metadata": {},
   "outputs": [],
   "source": [
    "print('Training score:', rf.score(train_features,train_labels))\n",
    "print('Testing score:', rf.score(test_features,test_labels))"
   ]
  },
  {
   "cell_type": "markdown",
   "metadata": {},
   "source": [
    "### Two Most Important Features"
   ]
  },
  {
   "cell_type": "code",
   "execution_count": null,
   "metadata": {},
   "outputs": [],
   "source": [
    "# New random forest with only the two most important variables\n",
    "rf_most_important = RandomForestRegressor(n_estimators= 1000, random_state=42)\n",
    "\n",
    "# Extract the two most important features\n",
    "important_indices = [feature_list.index('scattering_angle'), feature_list.index('energy')]\n",
    "train_important = train_features[:, important_indices]\n",
    "test_important = test_features[:, important_indices]\n",
    "\n",
    "# Train the random forest\n",
    "rf_most_important.fit(train_important, train_labels)\n",
    "\n",
    "# Make predictions and determine the error\n",
    "predictions = rf_most_important.predict(test_important)\n",
    "\n",
    "#prediction_data = pd.DataFrame(data={'energy':rxn_observable['energy'], 'prediction':predictions})\n",
    "\n",
    "errors = abs(predictions - test_labels)\n",
    "\n",
    "# Display the performance metrics\n",
    "print('Mean Absolute Error:', round(np.mean(errors), 2))\n",
    "\n",
    "mape = np.mean(100 * (errors / test_labels))\n",
    "accuracy = 100 - mape\n",
    "\n",
    "print('Accuracy:', round(accuracy, 2), '%.')\n",
    "print(len(predictions))\n"
   ]
  },
  {
   "cell_type": "markdown",
   "metadata": {
    "collapsed": true
   },
   "source": [
    "## Visualizations"
   ]
  },
  {
   "cell_type": "code",
   "execution_count": null,
   "metadata": {},
   "outputs": [],
   "source": [
    "# Import matplotlib for plotting and use magic command for Jupyter Notebooks\n",
    "import matplotlib.pyplot as plt\n",
    "\n",
    "%matplotlib inline\n",
    "\n",
    "# Set the style\n",
    "plt.style.use('fivethirtyeight')\n",
    "\n",
    "# list of x locations for plotting\n",
    "x_values = list(range(len(importances)))\n",
    "\n",
    "# Make a bar chart\n",
    "plt.bar(x_values, importances, orientation = 'vertical')\n",
    "\n",
    "# Tick labels for x axis\n",
    "plt.xticks(x_values, feature_list, rotation='vertical')\n",
    "\n",
    "# Axis labels and title\n",
    "plt.ylabel('Importance'); plt.xlabel('Variable'); plt.title('Variable Importances'); "
   ]
  },
  {
   "cell_type": "code",
   "execution_count": null,
   "metadata": {},
   "outputs": [],
   "source": [
    "figure(figsize=(15,5))\n",
    "\n",
    "# Plot the actual values\n",
    "plt.plot(rxn_observable['energy'], rxn_observable['experimental_value'], 'b-', label = 'Experimental Value')\n",
    "\n",
    "# Plot the predicted values\n",
    "plt.plot(predictions, predictions, 'ro', label = 'prediction')\n",
    "plt.xticks(rotation = '60'); \n",
    "plt.legend()\n",
    "\n",
    "# Graph labels\n",
    "plt.xlabel('Energy'); plt.ylabel('Experimental Value'); plt.title('Actual and Predicted Values');\n"
   ]
  },
  {
   "cell_type": "code",
   "execution_count": null,
   "metadata": {},
   "outputs": [],
   "source": [
    "figure(figsize=(15,5))\n",
    "\n",
    "# Make the data accessible for plotting\n",
    "rxn_observable['energy'] = features[:, feature_list.index('energy')]\n",
    "rxn_observable['scattering_angle'] = features[:, feature_list.index('scattering_angle')]\n",
    "\n",
    "# Plot all the data as lines\n",
    "plt.plot(rxn_observable['energy'], rxn_observable['experimental_value'], 'bo', label  = 'energy', alpha = 1.0)\n",
    "plt.plot(rxn_observable['scattering_angle'], rxn_observable['experimental_value'], 'ro', label  = 'scattering_angle', alpha = 0.1)\n",
    "#plt.plot(true_data['date'], true_data['average'], 'k-', label = 'average', alpha = 0.8)\n",
    "#plt.plot(true_data['date'], true_data['friend'], 'y-', label = 'friend', alpha = 0.3)\n",
    "\n",
    "# Formatting plot\n",
    "plt.legend(); plt.xticks(rotation = '60');\n",
    "\n",
    "# Lables and title\n",
    "plt.xlabel(''); plt.ylabel('Experimental Value'); plt.title('Actual Experimental Value and Variables');"
   ]
  }
 ],
 "metadata": {
  "hide_code_all_hidden": false,
  "kernelspec": {
   "display_name": "Python 3",
   "language": "python",
   "name": "python3"
  },
  "language_info": {
   "codemirror_mode": {
    "name": "ipython",
    "version": 3
   },
   "file_extension": ".py",
   "mimetype": "text/x-python",
   "name": "python",
   "nbconvert_exporter": "python",
   "pygments_lexer": "ipython3",
   "version": "3.7.3"
  }
 },
 "nbformat": 4,
 "nbformat_minor": 2
}
