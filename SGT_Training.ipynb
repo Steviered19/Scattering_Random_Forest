{
 "cells": [
  {
   "cell_type": "code",
   "execution_count": 89,
   "metadata": {},
   "outputs": [],
   "source": [
    "#import necessary libraries\n",
    "import numpy as np\n",
    "import pandas as pd\n",
    "import matplotlib.pyplot as plt\n",
    "import matplotlib.style as style\n",
    "from sklearn.model_selection import train_test_split\n",
    "from sklearn.ensemble import RandomForestRegressor\n",
    "from matplotlib.pyplot import figure\n",
    "import time\n",
    "\n",
    "\n",
    "#define plotting style that I like\n",
    "style.use('seaborn-deep')"
   ]
  },
  {
   "cell_type": "code",
   "execution_count": 90,
   "metadata": {},
   "outputs": [],
   "source": [
    "#define constants\n",
    "m_p=938.27231 #MeV\n",
    "m_n=939.56563 #MeV\n",
    "hbar_c=197.327053 #MeVfm"
   ]
  },
  {
   "cell_type": "code",
   "execution_count": 91,
   "metadata": {},
   "outputs": [],
   "source": [
    "np_total=pd.read_csv('CSV_files/np.dat.csv')\n",
    "pp_total=pd.read_csv('CSV_files/pp.dat.csv')\n",
    "pp_total.rename(columns={' scattering_angle': 'scattering_angle', ' experimental_value': 'experimental_value', ' statistical_error': 'statistical_error', ' reaction_type': 'reaction_type', ' observable': 'observable', ' systematic_error': 'systematic_error', ' normalization': 'normalization'}, inplace=True)\n",
    "np_total.rename(columns={' scattering_angle': 'scattering_angle', ' experimental_value': 'experimental_value', ' statistical_error': 'statistical_error', ' reaction_type': 'reaction_type', ' observable': 'observable', ' systematic_error': 'systematic_error', ' normalization': 'normalization'}, inplace=True)"
   ]
  },
  {
   "cell_type": "code",
   "execution_count": 92,
   "metadata": {},
   "outputs": [],
   "source": [
    "# read separated files\n",
    "#np files\n",
    "np_sgt=pd.read_csv('CSV_files/np.sgt.csv')\n",
    "np_sgtt=pd.read_csv('CSV_files/np.sgtt.csv')\n",
    "\n",
    "#pp files\n",
    "pp_sgt=pd.read_csv('CSV_files/pp.sgt.csv')\n",
    "pp_sgtt=pd.read_csv('CSV_files/pp.sgtt.csv')"
   ]
  },
  {
   "cell_type": "code",
   "execution_count": 93,
   "metadata": {},
   "outputs": [],
   "source": [
    "#remove uneccesary columns\n",
    "#remove scattering angle because they are all 0 for sgt and sgtt\n",
    "#total files\n",
    "pp_total = pp_total.drop(columns=['scattering_angle','statistical_error', 'systematic_error', 'normalization', 'reaction_type', 'observable'])\n",
    "np_total = np_total.drop(columns=['scattering_angle','statistical_error', 'systematic_error', 'normalization', 'reaction_type', 'observable'])\n",
    "#np files\n",
    "np_sgt = np_sgt.drop(columns=['scattering_angle','statistical_error', 'systematic_error', 'normalization', 'reaction_type', 'observable'])\n",
    "np_sgtt = np_sgtt.drop(columns=['scattering_angle','statistical_error', 'systematic_error', 'normalization', 'reaction_type', 'observable'])\n",
    "#pp files\n",
    "pp_sgt = pp_sgt.drop(columns=['scattering_angle','statistical_error', 'systematic_error', 'normalization', 'reaction_type', 'observable'])\n",
    "pp_sgtt = pp_sgtt.drop(columns=['scattering_angle','statistical_error', 'systematic_error', 'normalization', 'reaction_type', 'observable'])"
   ]
  },
  {
   "cell_type": "code",
   "execution_count": 94,
   "metadata": {},
   "outputs": [],
   "source": [
    "# fucntions for k for each rxn type\n",
    "def k_pp(energy):\n",
    "    value=np.sqrt(((m_p**2)*(energy)*(energy+2*m_n))/(((m_p+m_n)**2)+(2*energy*m_p))) \n",
    "    k_pp=value/hbar_c \n",
    "    return k_pp\n",
    "def k_np(energy):\n",
    "    value=np.sqrt((1/2)*m_p*energy) \n",
    "    k_np=value/hbar_c \n",
    "    return k_np"
   ]
  },
  {
   "cell_type": "code",
   "execution_count": 95,
   "metadata": {},
   "outputs": [],
   "source": [
    "# add k*experimental_value column\n",
    "def change_np(rxn_observable):\n",
    "    rxn_observable['K*experimental_value'] = rxn_observable.apply(lambda row: (row.experimental_value * k_np(row.energy)),axis=1)\n",
    "def change_pp(rxn_observable):\n",
    "    rxn_observable['K*experimental_value'] = rxn_observable.apply(lambda row: (row.experimental_value * k_pp(row.energy)),axis=1)"
   ]
  },
  {
   "cell_type": "code",
   "execution_count": 96,
   "metadata": {},
   "outputs": [],
   "source": [
    "#define runtime calculator\n",
    "def timer(elapsed_time):\n",
    "    seconds = (time.time() - elapsed_time)\n",
    "    day = seconds // (24 * 3600)\n",
    "    seconds = seconds % (24 * 3600)\n",
    "    hour = seconds // 3600\n",
    "    seconds %= 3600\n",
    "    minutes = seconds // 60\n",
    "    seconds %= 60\n",
    "    seconds = seconds\n",
    "    print('')\n",
    "    print('Cell runtime:', \"%s days, %s hours, %s minutes, %s seconds\" % (day, hour, minutes, seconds) )\n",
    "    print('')"
   ]
  },
  {
   "cell_type": "code",
   "execution_count": 97,
   "metadata": {},
   "outputs": [],
   "source": [
    "change_np(np_sgt)\n",
    "change_np(np_sgtt)\n",
    "change_pp(pp_sgt)\n",
    "change_pp(pp_sgtt)"
   ]
  },
  {
   "cell_type": "code",
   "execution_count": 98,
   "metadata": {},
   "outputs": [],
   "source": [
    "np_sgt = np_sgt.drop(columns=['experimental_value'])\n",
    "np_sgtt = np_sgtt.drop(columns=['experimental_value'])\n",
    "pp_sgt = pp_sgt.drop(columns=['experimental_value'])\n",
    "pp_sgtt = pp_sgtt.drop(columns=['experimental_value'])"
   ]
  },
  {
   "cell_type": "code",
   "execution_count": 99,
   "metadata": {},
   "outputs": [
    {
     "data": {
      "text/html": [
       "<div>\n",
       "<style scoped>\n",
       "    .dataframe tbody tr th:only-of-type {\n",
       "        vertical-align: middle;\n",
       "    }\n",
       "\n",
       "    .dataframe tbody tr th {\n",
       "        vertical-align: top;\n",
       "    }\n",
       "\n",
       "    .dataframe thead th {\n",
       "        text-align: right;\n",
       "    }\n",
       "</style>\n",
       "<table border=\"1\" class=\"dataframe\">\n",
       "  <thead>\n",
       "    <tr style=\"text-align: right;\">\n",
       "      <th></th>\n",
       "      <th>energy</th>\n",
       "      <th>K*experimental_value</th>\n",
       "    </tr>\n",
       "  </thead>\n",
       "  <tbody>\n",
       "    <tr>\n",
       "      <th>0</th>\n",
       "      <td>3.650000</td>\n",
       "      <td>53.202216</td>\n",
       "    </tr>\n",
       "    <tr>\n",
       "      <th>1</th>\n",
       "      <td>4.420000</td>\n",
       "      <td>10.315291</td>\n",
       "    </tr>\n",
       "    <tr>\n",
       "      <th>2</th>\n",
       "      <td>4.910000</td>\n",
       "      <td>9.972118</td>\n",
       "    </tr>\n",
       "    <tr>\n",
       "      <th>3</th>\n",
       "      <td>5.210000</td>\n",
       "      <td>-9.595784</td>\n",
       "    </tr>\n",
       "    <tr>\n",
       "      <th>4</th>\n",
       "      <td>5.810000</td>\n",
       "      <td>-6.826068</td>\n",
       "    </tr>\n",
       "    <tr>\n",
       "      <th>5</th>\n",
       "      <td>6.250000</td>\n",
       "      <td>-18.138622</td>\n",
       "    </tr>\n",
       "    <tr>\n",
       "      <th>6</th>\n",
       "      <td>7.430000</td>\n",
       "      <td>-38.596413</td>\n",
       "    </tr>\n",
       "    <tr>\n",
       "      <th>7</th>\n",
       "      <td>9.570000</td>\n",
       "      <td>-46.757656</td>\n",
       "    </tr>\n",
       "    <tr>\n",
       "      <th>8</th>\n",
       "      <td>11.600000</td>\n",
       "      <td>-55.030014</td>\n",
       "    </tr>\n",
       "    <tr>\n",
       "      <th>9</th>\n",
       "      <td>10.700000</td>\n",
       "      <td>-50.410591</td>\n",
       "    </tr>\n",
       "    <tr>\n",
       "      <th>10</th>\n",
       "      <td>14.600000</td>\n",
       "      <td>-59.975695</td>\n",
       "    </tr>\n",
       "    <tr>\n",
       "      <th>11</th>\n",
       "      <td>17.100000</td>\n",
       "      <td>-56.238300</td>\n",
       "    </tr>\n",
       "    <tr>\n",
       "      <th>12</th>\n",
       "      <td>16.200001</td>\n",
       "      <td>-55.666112</td>\n",
       "    </tr>\n",
       "    <tr>\n",
       "      <th>13</th>\n",
       "      <td>180.000000</td>\n",
       "      <td>-10.161274</td>\n",
       "    </tr>\n",
       "    <tr>\n",
       "      <th>14</th>\n",
       "      <td>225.000000</td>\n",
       "      <td>3.622236</td>\n",
       "    </tr>\n",
       "    <tr>\n",
       "      <th>15</th>\n",
       "      <td>277.000000</td>\n",
       "      <td>6.942027</td>\n",
       "    </tr>\n",
       "    <tr>\n",
       "      <th>16</th>\n",
       "      <td>295.000000</td>\n",
       "      <td>-10.031528</td>\n",
       "    </tr>\n",
       "    <tr>\n",
       "      <th>17</th>\n",
       "      <td>328.000000</td>\n",
       "      <td>-10.641356</td>\n",
       "    </tr>\n",
       "    <tr>\n",
       "      <th>18</th>\n",
       "      <td>332.000000</td>\n",
       "      <td>13.600059</td>\n",
       "    </tr>\n",
       "  </tbody>\n",
       "</table>\n",
       "</div>"
      ],
      "text/plain": [
       "        energy  K*experimental_value\n",
       "0     3.650000             53.202216\n",
       "1     4.420000             10.315291\n",
       "2     4.910000              9.972118\n",
       "3     5.210000             -9.595784\n",
       "4     5.810000             -6.826068\n",
       "5     6.250000            -18.138622\n",
       "6     7.430000            -38.596413\n",
       "7     9.570000            -46.757656\n",
       "8    11.600000            -55.030014\n",
       "9    10.700000            -50.410591\n",
       "10   14.600000            -59.975695\n",
       "11   17.100000            -56.238300\n",
       "12   16.200001            -55.666112\n",
       "13  180.000000            -10.161274\n",
       "14  225.000000              3.622236\n",
       "15  277.000000              6.942027\n",
       "16  295.000000            -10.031528\n",
       "17  328.000000            -10.641356\n",
       "18  332.000000             13.600059"
      ]
     },
     "execution_count": 99,
     "metadata": {},
     "output_type": "execute_result"
    }
   ],
   "source": [
    "np_sgtt"
   ]
  },
  {
   "cell_type": "markdown",
   "metadata": {},
   "source": [
    "# Random Forests"
   ]
  },
  {
   "cell_type": "code",
   "execution_count": 100,
   "metadata": {},
   "outputs": [],
   "source": [
    "def split_and_score(size, number_of_random_states):\n",
    "    test=np.zeros(number_of_random_states)\n",
    "    train=np.zeros(number_of_random_states)\n",
    "    for j in range(number_of_random_states):\n",
    "        #split\n",
    "        train_features, test_features, train_labels, test_labels = train_test_split(features, labels, test_size=size)\n",
    "        #rf.train\n",
    "        rf = RandomForestRegressor(n_estimators=1000)\n",
    "        rf.fit(train_features, train_labels);\n",
    "        predictions = rf.predict(test_features)\n",
    "        rf_new = RandomForestRegressor(n_estimators = 100, criterion = 'mse', max_depth = None, min_samples_split = 2, min_samples_leaf = 1)\n",
    "        importances = list(rf.feature_importances_)\n",
    "        feature_importances = [(feature, round(importance, 2)) for feature, importance in zip(feature_list, importances)]\n",
    "        feature_importances = sorted(feature_importances, key = lambda x: x[1], reverse = True)\n",
    "        #score\n",
    "        test[j]=rf.score(test_features,test_labels)\n",
    "        train[j]=rf.score(train_features,train_labels)\n",
    "    test_ave=np.mean(test)\n",
    "    train_ave=np.mean(train)\n",
    "    test_var=np.sqrt(np.var(test))\n",
    "    train_var=np.sqrt(np.var(train))\n",
    "    return test_ave, test_var, train_ave, train_var"
   ]
  },
  {
   "cell_type": "markdown",
   "metadata": {},
   "source": [
    "## Variables to change for random forests"
   ]
  },
  {
   "cell_type": "code",
   "execution_count": 101,
   "metadata": {},
   "outputs": [],
   "source": [
    "## EVERYTHING THAT NEEDS CHANGED SHOULD BE IN HERE\n",
    "\n",
    "#define number of random states\n",
    "number_of_random_states=5\n",
    "\n",
    "#define intervals of test size\n",
    "intervals=9 # 1:50%, 3:25%, 4:20%, 9:10%, 19:5%, 24:4%, 49:2%, 99:1%"
   ]
  },
  {
   "cell_type": "code",
   "execution_count": 102,
   "metadata": {},
   "outputs": [],
   "source": [
    "#x-axis\n",
    "if intervals==1:\n",
    "    sample_size=[50] #50% intervals\n",
    "elif intervals==3:\n",
    "    sample_size=list(range(25,76,25)) #25% intervals\n",
    "elif intervals==4:\n",
    "    sample_size=list(range(20,81,20)) #20% intervals \n",
    "elif intervals==9:\n",
    "    sample_size=list(range(10,91,10)) #10% intervals\n",
    "elif intervals==19:\n",
    "    sample_size=list(range(5,96,5)) #5% intervals\n",
    "elif intervals==24:\n",
    "    sample_size=list(range(4,97,4)) #4% intervals\n",
    "elif intervals==49:\n",
    "    sample_size=list(range(2,99,2)) #2% intervals\n",
    "elif intervals==99:\n",
    "    sample_size=list(range(1,100,1)) #1% intervals"
   ]
  },
  {
   "cell_type": "code",
   "execution_count": 103,
   "metadata": {},
   "outputs": [],
   "source": [
    "def train_and_plot(rxn_observable, reac_observ):\n",
    "    #start timer\n",
    "    rxn_observable_time = time.time()\n",
    "    # One-hot encode categorical features\n",
    "    rxn_observable_plot = pd.get_dummies(rxn_observable)\n",
    "    # Labels are the values we want to predict\n",
    "    labels = np.array(rxn_observable_plot['K*experimental_value'])\n",
    "    # Remove the labels from the features\n",
    "    # axis 1 refers to the columns\n",
    "    features = rxn_observable_plot.drop('K*experimental_value', axis = 1)\n",
    "    # Saving feature names for later use\n",
    "    feature_list = list(features.columns)\n",
    "    # Convert to numpy array\n",
    "    features = np.array(features)\n",
    "\n",
    "    rxn_observable_test_mean=np.zeros(intervals) \n",
    "    rxn_observable_train_mean=np.zeros(intervals) \n",
    "    rxn_observable_test_variance=np.zeros(intervals) \n",
    "    rxn_observable_train_variance=np.zeros(intervals) \n",
    "    for i in range(intervals): \n",
    "        #define size\n",
    "        size=(i+1)/(intervals+1)\n",
    "        #call split function\n",
    "        test, test_v, train, train_v = split_and_score(size, number_of_random_states)\n",
    "        #add to arrays\n",
    "        rxn_observable_test_mean[i]=test\n",
    "        rxn_observable_train_mean[i]=train\n",
    "        rxn_observable_test_variance[i]=test_v\n",
    "        rxn_observable_train_variance[i]=train_v\n",
    "    print(\"Average Testing Score:\", rxn_observable_test_mean)\n",
    "    print('Testing Variance', rxn_observable_test_variance)\n",
    "    print('')\n",
    "    print('Average Training Score', rxn_observable_train_mean)\n",
    "    print('Training Variance', rxn_observable_train_variance)\n",
    "    print('')\n",
    "\n",
    "    #plot \n",
    "\n",
    "    #figure\n",
    "    figure(figsize=(15, 5))\n",
    "    ax=plt.subplot(111)\n",
    "    plt.xlabel('Test Size (%)')\n",
    "    plt.ylabel('Score')\n",
    "    plt.title(\"Reaction_Observable: {}\".format(reac_observ))\n",
    "    plt.xlim(left=0, right=100)\n",
    "    ax.scatter(sample_size, rxn_observable_test_mean, s=100, label='Average Testing Score')\n",
    "    ax.scatter(sample_size, rxn_observable_train_mean, s=100, label='Average Training Score')\n",
    "    ax.errorbar(sample_size, rxn_observable_test_mean, yerr=rxn_observable_test_variance, linestyle='none', capsize=10, elinewidth=2)\n",
    "    ax.errorbar(sample_size, rxn_observable_train_mean, yerr=rxn_observable_train_variance, linestyle='none', capsize=10, elinewidth=2)\n",
    "    ax.legend(loc='best')\n",
    "    plt.show\n",
    "\n",
    "    #print elapsed time\n",
    "    timer(rxn_observable_time)"
   ]
  },
  {
   "cell_type": "markdown",
   "metadata": {},
   "source": [
    "### NP SGT"
   ]
  },
  {
   "cell_type": "code",
   "execution_count": 104,
   "metadata": {},
   "outputs": [
    {
     "name": "stdout",
     "output_type": "stream",
     "text": [
      "Average Testing Score: [-4.94009300e+02  4.81159255e-01  6.25101869e-01  7.65165928e-01\n",
      "  6.36553398e-01  5.45672894e-01  2.24991204e-02  1.44457475e-02\n",
      " -3.14279860e-01]\n",
      "Testing Variance [9.82266040e+02 5.60549182e-01 1.96730331e-01 1.18127158e-01\n",
      " 1.44776602e-01 2.41843608e-01 7.21339713e-01 1.41039011e-01\n",
      " 4.18490181e-01]\n",
      "\n",
      "Average Training Score [0.96460936 0.95845301 0.96992964 0.94709363 0.93330893 0.93546064\n",
      " 0.89470481 0.79463691 0.        ]\n",
      "Training Variance [0.00503915 0.00642715 0.01013283 0.02263619 0.01323496 0.01149513\n",
      " 0.0458377  0.06142952 0.        ]\n",
      "\n",
      "\n",
      "Cell runtime: 0.0 days, 0.0 hours, 0.0 minutes, 36.052618980407715 seconds\n",
      "\n"
     ]
    },
    {
     "data": {
      "image/png": "[encoded data removed]",
      "text/plain": [
       "<Figure size 1080x360 with 1 Axes>"
      ]
     },
     "metadata": {},
     "output_type": "display_data"
    }
   ],
   "source": [
    "train_and_plot(np_sgt, \"NP_SGT\")"
   ]
  },
  {
   "cell_type": "markdown",
   "metadata": {},
   "source": [
    "### NP SGTT"
   ]
  },
  {
   "cell_type": "code",
   "execution_count": 105,
   "metadata": {
    "scrolled": true
   },
   "outputs": [
    {
     "name": "stdout",
     "output_type": "stream",
     "text": [
      "Average Testing Score: [-0.24819162  0.64662978  0.75183323  0.60394026  0.67841985  0.46250553\n",
      " -0.23128964 -0.39630037 -1.59949729]\n",
      "Testing Variance [1.65286226 0.14685621 0.09839949 0.20657859 0.07724609 0.22932448\n",
      " 0.71941231 0.32701765 0.95091521]\n",
      "\n",
      "Average Training Score [0.9599561  0.96837976 0.95752505 0.95084555 0.94348251 0.91581277\n",
      " 0.89721914 0.79354662 0.        ]\n",
      "Training Variance [0.00346696 0.00868281 0.00610194 0.01112978 0.01885803 0.03066025\n",
      " 0.05268023 0.05369486 0.        ]\n",
      "\n",
      "\n",
      "Cell runtime: 0.0 days, 0.0 hours, 0.0 minutes, 35.33504104614258 seconds\n",
      "\n"
     ]
    },
    {
     "data": {
      "image/png": "[encoded data removed]",
      "text/plain": [
       "<Figure size 1080x360 with 1 Axes>"
      ]
     },
     "metadata": {},
     "output_type": "display_data"
    }
   ],
   "source": [
    "train_and_plot(np_sgtt, \"NP_SGTT\")"
   ]
  },
  {
   "cell_type": "markdown",
   "metadata": {},
   "source": [
    "### Calculate values for a and b from predicted data"
   ]
  },
  {
   "cell_type": "code",
   "execution_count": 110,
   "metadata": {},
   "outputs": [
    {
     "name": "stderr",
     "output_type": "stream",
     "text": [
      "/Users/stevebradley/anaconda3/lib/python3.7/site-packages/ipykernel_launcher.py:4: DeprecationWarning: object of type <class 'float'> cannot be safely interpreted as an integer.\n",
      "  after removing the cwd from sys.path.\n"
     ]
    },
    {
     "name": "stdout",
     "output_type": "stream",
     "text": [
      "\n",
      "Cell runtime: 0.0 days, 0.0 hours, 0.0 minutes, 1.6194360256195068 seconds\n",
      "\n"
     ]
    }
   ],
   "source": [
    "#start timer\n",
    "ab_time = time.time()\n",
    "\n",
    "E = np.linspace(0, 350, 350/5)\n",
    "E = E.reshape(-1,1)\n",
    "\n",
    "# NP_SGT\n",
    "# One-hot encode categorical features\n",
    "np_sgt_ab = pd.get_dummies(np_sgt)\n",
    "# Labels are the values we want to predict\n",
    "labels = np.array(np_sgt_ab['K*experimental_value'])\n",
    "# Remove the labels from the features\n",
    "# axis 1 refers to the columns\n",
    "features = np_sgt_ab.drop('K*experimental_value', axis = 1)\n",
    "#split\n",
    "train_features, test_features, train_labels, test_labels = train_test_split(features, labels, test_size=0.25)\n",
    "#rf.train\n",
    "rf = RandomForestRegressor(n_estimators=1000)\n",
    "rf.fit(train_features, train_labels);\n",
    "np_sgt_predict = rf.predict(E) \n",
    "\n",
    "\n",
    "# NP_SGTT\n",
    "# One-hot encode categorical features\n",
    "np_sgtt_ab = pd.get_dummies(np_sgtt)\n",
    "# Labels are the values we want to predict\n",
    "labels = np.array(np_sgtt_ab['K*experimental_value'])\n",
    "# Remove the labels from the features\n",
    "# axis 1 refers to the columns\n",
    "features = np_sgtt_ab.drop('K*experimental_value', axis = 1)\n",
    "# Saving feature names for later use\n",
    "feature_list = list(features.columns)\n",
    "# Convert to numpy array\n",
    "features = np.array(features)\n",
    "#split\n",
    "train_features, test_features, train_labels, test_labels = train_test_split(features, labels, test_size=0.25)\n",
    "#rf.train\n",
    "rf = RandomForestRegressor(n_estimators=1000)\n",
    "rf.fit(train_features, train_labels);\n",
    "np_sgtt_predict = rf.predict(E)\n",
    "    \n",
    "timer(ab_time)"
   ]
  },
  {
   "cell_type": "code",
   "execution_count": 111,
   "metadata": {},
   "outputs": [],
   "source": [
    "#SGT: k*experimental_value=20*pi*IM(a+b)\n",
    "#SGTT: k*experimental_value=-40*pi*IM(a-b)\n",
    "# [1  1] [a] = [sgt /( 20pi)] ==> system solved by hand ==> [a] = [1/2   1/2] [sgt /( 20pi)]\n",
    "# [1 -1] [b] = [sgtt/(-40pi)]                               [b] = [1/2  -1/2] [sgtt/(-40pi)]\n",
    "    "
   ]
  },
  {
   "cell_type": "code",
   "execution_count": 112,
   "metadata": {},
   "outputs": [
    {
     "name": "stdout",
     "output_type": "stream",
     "text": [
      "\n",
      "Cell runtime: 0.0 days, 0.0 hours, 0.0 minutes, 0.1294701099395752 seconds\n",
      "\n"
     ]
    },
    {
     "data": {
      "image/png": "[encoded data removed]",
      "text/plain": [
       "<Figure size 1080x1080 with 4 Axes>"
      ]
     },
     "metadata": {},
     "output_type": "display_data"
    }
   ],
   "source": [
    "plot_time=time.time()\n",
    "#define values to be plotted\n",
    "sgt_energy=np_sgt['energy']\n",
    "sgt_k_value=np_sgt['K*experimental_value']\n",
    "sgtt_energy=np_sgtt['energy']\n",
    "sgtt_k_value=np_sgtt['K*experimental_value']\n",
    "#figure specifications\n",
    "fig, ((ax1, ax2), (ax3, ax4)) = plt.subplots(nrows=2, ncols=2, figsize = (15,15))\n",
    "fig.autofmt_xdate(rotation = 45)\n",
    "#plot 1\n",
    "ax1.plot(sgt_energy, sgt_k_value, 'ro', alpha=0.5)\n",
    "ax1.set_xlabel('Energy'); ax1.set_ylabel('K * Experimental Value'); ax1.set_title('NP SGT')\n",
    "#plot 2\n",
    "ax2.plot(sgtt_energy, sgtt_k_value, 'bo', alpha=0.5)\n",
    "ax2.set_xlabel('Energy'); ax2.set_ylabel('K * Experimental Value'); ax2.set_title('NP SGTT')\n",
    "#plot 3\n",
    "ax3.plot(E, np_sgt_predict, 'go', alpha=0.5)\n",
    "ax3.set_xlabel('Energy'); ax3.set_ylabel('Prediction'); ax3.set_title('Prediction ')\n",
    "#plot 4\n",
    "ax4.plot(E, np_sgtt_predict, 'mo', alpha=0.5)\n",
    "ax4.set_xlabel('Energy'); ax4.set_ylabel('Prediction'); ax4.set_title('Prediction')\n",
    "\n",
    "timer(plot_time)"
   ]
  },
  {
   "cell_type": "code",
   "execution_count": 113,
   "metadata": {},
   "outputs": [
    {
     "data": {
      "text/plain": [
       "Text(0.5, 1.0, 'Prediction')"
      ]
     },
     "execution_count": 113,
     "metadata": {},
     "output_type": "execute_result"
    },
    {
     "data": {
      "image/png": "[encoded data removed]",
      "text/plain": [
       "<Figure size 1080x1080 with 1 Axes>"
      ]
     },
     "metadata": {},
     "output_type": "display_data"
    }
   ],
   "source": [
    "fig, (ax4) = plt.subplots(nrows=1, ncols=1, figsize = (15,15))\n",
    "fig.autofmt_xdate(rotation = 45)\n",
    "#plot 4\n",
    "ax4.plot(E, np_sgtt_predict, 'mo', alpha=0.5)\n",
    "ax4.set_xlabel('Energy'); ax4.set_ylabel('Prediction'); ax4.set_title('Prediction')"
   ]
  },
  {
   "cell_type": "code",
   "execution_count": null,
   "metadata": {},
   "outputs": [],
   "source": []
  }
 ],
 "metadata": {
  "kernelspec": {
   "display_name": "Python 3",
   "language": "python",
   "name": "python3"
  },
  "language_info": {
   "codemirror_mode": {
    "name": "ipython",
    "version": 3
   },
   "file_extension": ".py",
   "mimetype": "text/x-python",
   "name": "python",
   "nbconvert_exporter": "python",
   "pygments_lexer": "ipython3",
   "version": "3.7.3"
  }
 },
 "nbformat": 4,
 "nbformat_minor": 2
}
